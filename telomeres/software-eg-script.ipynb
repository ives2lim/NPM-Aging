{
 "cells": [
  {
   "cell_type": "markdown",
   "id": "e4112572-f8c3-4cbb-adae-1215139c0413",
   "metadata": {},
   "source": [
    "### List of Softwares"
   ]
  },
  {
   "cell_type": "markdown",
   "id": "27c3cd68-fc06-49eb-a6bc-35eb0262089a",
   "metadata": {},
   "source": [
    "| Software | Version | Reference |\n",
    "|:---------|:--------:|---------:|\n",
    "|  TELSEQ  |  v0.0.2   |  doi: 10.1093/nar/gku181   |\n",
    "|  RVTESTS |  v2.1.0   |  doi:10.1093/bioinformatics/btw079   |\n",
    "|  STATA   |  v16      |  StataCorp. 2023. Stata Statistical Software: Release 16   |\n",
    "|  PLINK   |  v1.9     |  doi: 10.1086/519795 |\n",
    "|  RAREMETAL | v4.15.1 |  doi: 10.1093/bioinformatics/btu367 |\n",
    "|  SAMTOOLS | v1.13 | doi: 10.1093/gigascience/giab008 |"
   ]
  },
  {
   "cell_type": "markdown",
   "id": "1234a445-9230-4ef1-97d7-7b32d6119531",
   "metadata": {},
   "source": [
    "### Sample Filtering"
   ]
  },
  {
   "cell_type": "raw",
   "id": "2ee0381b-f9fc-439e-abf7-0cca2ef88e46",
   "metadata": {},
   "source": [
    "# exclude admixtures/ flagged samples (from Penny Chan, ethnicity PCA)\n",
    "# telseq justification: correlation with Telomerecat (PRISM) / 29 CGS samples"
   ]
  },
  {
   "cell_type": "markdown",
   "id": "6c744a34-3359-43ea-8dc2-2babd6d8996c",
   "metadata": {},
   "source": [
    "### Telomere Length Estimation using TelSeq v0.0.2"
   ]
  },
  {
   "cell_type": "raw",
   "id": "4ca97fcb-70ad-4cab-9e6a-a11caa955553",
   "metadata": {
    "tags": []
   },
   "source": [
    "# sample samtools view and telseq command for SG10K samples (n = 8,045), ASPIRE1A, general file name: telseq.pbs\n",
    "# single run mode\n",
    "# background\n",
    "TelSeq (initial commands from Wang Ling, Dr. Raj (GIS)\n",
    "Input: cram files\n",
    "samtools view to unzip cram file, then TelSeq to output estimated TL"
   ]
  },
  {
   "cell_type": "markdown",
   "id": "d1c38931-7d49-489a-99b5-857442b0ae66",
   "metadata": {},
   "source": [
    "Example TELSEQ script (for PRISM sample ID 0115-0043)"
   ]
  },
  {
   "cell_type": "code",
   "execution_count": null,
   "id": "02c08fcd-28aa-4604-8e2b-1acd630d88aa",
   "metadata": {},
   "outputs": [],
   "source": [
    "#!/bin/bash\n",
    "#PBS -q normal\n",
    "#PBS -l select=1:ncpus=1:mem=4G\n",
    "#PBS -l walltime=24:00:00\n",
    "#PBS -P 13001375\n",
    "\n",
    "module load gcc\n",
    "export PATH=/home/projects/13001375/samtools1-13/bin:$PATH\n",
    "cd $PBS_O_WORKDIR\n",
    "\n",
    "samtools view -u /data/0115-0043.bqsr.cram |\n",
    "/home/Telseq/telseq-0.0.2/src/Telseq/telseq -r 151 - > /home/0115-0043/output.batch01.0115-0043.RG.txt\n",
    "\n",
    "samtools view -u /data/0115-0043.bqsr.cram |\n",
    "/home/Telseq/telseq-0.0.2/src/Telseq/telseq -r 151 -m - > /home/0115-0043/output.batch01.0115-0043.AVG.txt"
   ]
  },
  {
   "cell_type": "markdown",
   "id": "b40dddf0-cb9a-48a5-b1d2-6ab46a7dff11",
   "metadata": {},
   "source": [
    "## Analysis"
   ]
  },
  {
   "cell_type": "markdown",
   "id": "eab06554-8ad8-4cde-af63-61f7b2b339f9",
   "metadata": {},
   "source": [
    "### Single Variant Association using RVTESTS v2.1.0"
   ]
  },
  {
   "cell_type": "raw",
   "id": "4e419ee8-fc40-4bab-b048-0ec6a63e8ee9",
   "metadata": {},
   "source": [
    "https://zhanxw.github.io/rvtests/#single-variant-tests-1\n",
    "Background:\n",
    "Single variant association using RVTESTS (input z_ltl as phenotype. sex, yob as covariates. lower frequency threshold calculated.)"
   ]
  },
  {
   "cell_type": "markdown",
   "id": "c8e78ff6-d71e-4aed-bef3-d6ac3f56f014",
   "metadata": {},
   "source": [
    "Example script for TTSH Chinese cohort"
   ]
  },
  {
   "cell_type": "code",
   "execution_count": null,
   "id": "249247de-d896-4c01-bfd3-e51259182e07",
   "metadata": {},
   "outputs": [],
   "source": [
    "#!/bin/bash\n",
    "#PBS -q normal\n",
    "#PBS -l select=1:ncpus=1:mem=4G\n",
    "#PBS -l walltime=24:00:00\n",
    "#PBS -P 13001375\n",
    "\n",
    "/home/projects/rvtests/executable/rvtest --inVcf /data/SG10K_Health_r5.3.n9770.chr1.vcf.gz \\\n",
    "--pheno /home/projects/ttsh-rvtest/ttsh919_zltl_20220115.ped --pheno-name z_ltl --covar /home/projects/ttsh-rvtest/ttsh_sex_yob_20220115.covar \\\n",
    "--covar-name sex,yob --peopleIncludeFile /home/projects/ttsh-rvtest/ttsh_Chinese495.txt --out /home/projects/ttsh-rvtest/chr1/output --single wald,score --freqLower 0.0030303"
   ]
  },
  {
   "cell_type": "markdown",
   "id": "015e2370-a564-4719-aed4-8112bfb5cf24",
   "metadata": {},
   "source": [
    "PLINK was selected for single variant association test in all subsequent analyses."
   ]
  },
  {
   "cell_type": "markdown",
   "id": "d7d51111-3f80-4d41-9263-a36acd41fcfe",
   "metadata": {},
   "source": [
    "### Single Variant Association using PLINK v1.9"
   ]
  },
  {
   "cell_type": "markdown",
   "id": "cff5a11e-3e80-43a0-b7a9-fe7a5e8b28c0",
   "metadata": {},
   "source": [
    "Common Variant Association"
   ]
  },
  {
   "cell_type": "markdown",
   "id": "2d5fb8df-8323-4480-9ca5-8cf467d7c1c5",
   "metadata": {},
   "source": [
    "Example script for HELIOS Chinese cohort, CHR1, MAF = 1%"
   ]
  },
  {
   "cell_type": "code",
   "execution_count": null,
   "id": "b15459b2-71b7-4854-a66f-4ea92ff05d61",
   "metadata": {},
   "outputs": [],
   "source": [
    "#!/bin/bash\n",
    "#PBS -q normal\n",
    "#PBS -l select=1:ncpus=1:mem=4G\n",
    "#PBS -l walltime=24:00:00\n",
    "#PBS -P 13001375\n",
    "\n",
    "/home/projects/plink/plink-1-9/plink --noweb --vcf /data/SG10K_Health_r5.3.n9770.chr1.vcf.gz \\\n",
    "--linear --pheno /home/projects/helios_pheno.txt --all-pheno \\\n",
    "--keep /home/projects/helios_chinese1412.txt --double-id \\\n",
    "--covar /home/projects/helios_sex_yob.txt --covar-name sex,yob,pc1,pc2,pc3 \\\n",
    "--maf 0.01 --ci 0.95 --snps-only just-acgt --hwe 0.000001 --geno 0.05 --freq --allow-no-sex \\\n",
    "--out /home/projects/helioschinesechr1ci"
   ]
  },
  {
   "cell_type": "markdown",
   "id": "2a023e01-7276-4882-b65d-f9c090d686e9",
   "metadata": {},
   "source": [
    "Rare Variant Association"
   ]
  },
  {
   "cell_type": "markdown",
   "id": "3d519cf8-372e-4796-8768-bdb4f9069c79",
   "metadata": {},
   "source": [
    "Example script for HELIOS Chinese cohort, CHR1, MAF = 0.1%"
   ]
  },
  {
   "cell_type": "code",
   "execution_count": null,
   "id": "7ff7bdb8-346b-47df-ae4c-f50ad3f851fc",
   "metadata": {},
   "outputs": [],
   "source": [
    "#!/bin/bash\n",
    "#PBS -q normal\n",
    "#PBS -l select=1:ncpus=1:mem=4G\n",
    "#PBS -l walltime=24:00:00\n",
    "#PBS -P 13001375\n",
    "\n",
    "/home/projects/plink/plink-1-9/plink --noweb --vcf /data/SG10K_Health_r5.3.n9770.chr1.vcf.gz \\\n",
    "--linear --pheno /home/projects/helios_pheno.txt --all-pheno \\\n",
    "--keep /home/projects/helios_chinese1412.txt --double-id \\\n",
    "--covar /home/projects/helios_sex_yob.txt \\\n",
    "--covar-name sex,yob,pc1,pc2,pc3 --maf 0.001 --max-maf 0.009999 --ci 0.95 --snps-only just-acgt --hwe 0.000001 --geno 0.05 --freq --allow-no-sex \\\n",
    "--out /home/projects/helioschinesechr1rareci"
   ]
  },
  {
   "cell_type": "markdown",
   "id": "a3b4e6df-bcad-4b38-a7b4-f7d49d7503f0",
   "metadata": {},
   "source": [
    "Common Variant Association with MAF = 5%"
   ]
  },
  {
   "cell_type": "markdown",
   "id": "da28d423-cba3-479d-b69e-250c46151495",
   "metadata": {},
   "source": [
    "Example script for HELIOS Chinese cohort, CHR1, MAF = 5%"
   ]
  },
  {
   "cell_type": "code",
   "execution_count": null,
   "id": "86f74ff2-e1b7-4304-bdac-7d18989f6d14",
   "metadata": {},
   "outputs": [],
   "source": [
    "#!/bin/bash\n",
    "#PBS -q normal\n",
    "#PBS -l select=1:ncpus=1:mem=4G\n",
    "#PBS -l walltime=24:00:00\n",
    "#PBS -P 13001375\n",
    "\n",
    "/home/projects/plink/plink-1-9/plink --noweb --vcf /data/SG10K_Health_r5.3.n9770.chr1.vcf.gz \\\n",
    "--linear --pheno /home/projects/helios_pheno.txt --all-pheno \\\n",
    "--keep /home/projects/helios_chinese1412.txt \\\n",
    "--double-id --covar /home/projects/helios_sex_yob.txt \\\n",
    "--covar-name sex,yob,pc1,pc2,pc3 --maf 0.05 --ci 0.95 --snps-only just-acgt --hwe 0.000001 --geno 0.05 --freq --allow-no-sex \\\n",
    "--out /home/projects/helioschinesechr1ci5percent"
   ]
  },
  {
   "cell_type": "markdown",
   "id": "54977a29-849f-4dfb-97fb-9f6b49c599c4",
   "metadata": {},
   "source": [
    "### Meta analysis (PLINK v1.9; STATA16)"
   ]
  },
  {
   "cell_type": "markdown",
   "id": "c71a124e-4ed1-4802-a73e-da42caa490ab",
   "metadata": {},
   "source": [
    "Example script - trans-ethnics meta-analysis, 15 adult cohorts, 22 chr, common variant association"
   ]
  },
  {
   "cell_type": "code",
   "execution_count": null,
   "id": "003603c7-e624-4831-8c05-86063f72ec09",
   "metadata": {},
   "outputs": [],
   "source": [
    "#!/bin/bash\n",
    "#PBS -q normal\n",
    "#PBS -l select=1:ncpus=1:mem=4G\n",
    "#PBS -l walltime=24:00:00\n",
    "#PBS -P 13001375\n",
    "\n",
    "/home/projects/plink/plink-1-9/plink --noweb --meta-analysis /home/projects/helioschinesecommon22chr.addonly.head.txt \\\n",
    "/home/projects/mecchinesecommon22chr.zltl.addonly.head.txt /home/projects/prismchinesecommon22chr.zltl.addonly.head.nospace.txt \\\n",
    "/home/projects/serichinesecommon22chr.addonly.nospace.txt /home/projects/ttshchinesecommon22chr.zltl.addonly.head.nospace.txt \\\n",
    "/home/projects/heliosindiancommon22chr.zltl.addonly.head.txt /home/projects/mecindiancommon22chr.zltl.addonly.head.txt \\\n",
    "/home/projects/prismindiancommon22chr.zltl.addonly.head.txt /home/projects/seriindiancommon22chr.zltl.addonly.head.txt \\\n",
    "/home/projects/ttsh-indian-ci/ttshindiancommon22chr.addonly.txt /home/projects/heliosmalaycommon22chr.zltl.addonly.head.txt \\\n",
    "/home/projects/mecmalaycommon22chr.zltl.addonly.head.txt /home/projects/prismmalaycommon22chr.zltl.addonly.head.txt \\\n",
    "/home/projects/serimalaycommon22chr.zltl.addonly.head.txt /home/projects/ttshmalaycommon22chr.addonly.txt  + qt \\\n",
    "--out /home/projects/meta.transethnics.commonsnps.tl"
   ]
  },
  {
   "cell_type": "markdown",
   "id": "97981de4-fb01-4284-9abf-c5df09fefd25",
   "metadata": {},
   "source": [
    "All hits/ near hits metadata were QCed (re-meta-analyzed) using STATA16."
   ]
  },
  {
   "cell_type": "markdown",
   "id": "dbf9d426-a106-4120-9872-de518ed0ce36",
   "metadata": {},
   "source": [
    "Forest plots were generated using STATA16/Meta-analysis"
   ]
  },
  {
   "cell_type": "markdown",
   "id": "502b15c0-5dda-4fe5-8586-013b780a6c21",
   "metadata": {},
   "source": [
    "### Single variant association (GUSTO, MAF = 5%)"
   ]
  },
  {
   "cell_type": "markdown",
   "id": "f3ebb2b2-af4d-4d90-be08-21019cc5a269",
   "metadata": {},
   "source": [
    "Example script for GUSTO Indian cohort, CHR1"
   ]
  },
  {
   "cell_type": "code",
   "execution_count": null,
   "id": "94a12d61-efc4-45d5-9636-c673888c398f",
   "metadata": {},
   "outputs": [],
   "source": [
    "#!/bin/bash\n",
    "#PBS -N plink\n",
    "#PBS -q normal\n",
    "#PBS -l select=1:ngpus=1:ncpus=24:mpiprocs=4:ompthreads=6:mem=64gb\n",
    "#PBS -j oe\n",
    "#PBS -l walltime=24:00:00\n",
    "#PBS -P personal-ng0167ng\n",
    "\n",
    "/data/projects/plink/plink-1-9/plink --noweb --vcf /data/SG10K_Health_r5.3.n9770.chr1.vcf.gz \\\n",
    "--linear --pheno /data/projects/gusto_indian_pheno.txt --all-pheno \\\n",
    "--keep /data/projects/gusto_indian158.txt --double-id \\\n",
    "--covar /data/projects/gusto_indian_sex_yob.txt --covar-name sex,pc1,pc2,pc3,pc4,pc5 \\\n",
    "--maf 0.05 --ci 0.95 --snps-only just-acgt --hwe 0.000001 --geno 0.05 --freq --allow-no-sex \\\n",
    "--out /data/projects/gustoindianchr1ci5percent"
   ]
  },
  {
   "cell_type": "markdown",
   "id": "f8794ea5-642e-4fe9-a4f1-2864e3fdee2c",
   "metadata": {},
   "source": [
    "### Burden Analysis using RVTESTS v2.1.0 and RAREMETAL v4.15.1 (executables)"
   ]
  },
  {
   "cell_type": "markdown",
   "id": "3c517258-9cdb-42b0-a3aa-36e49b1e397f",
   "metadata": {},
   "source": [
    "Covariate matrix using RVTESTS"
   ]
  },
  {
   "cell_type": "markdown",
   "id": "bc2d70fd-7e12-4134-8655-95168d60ffac",
   "metadata": {},
   "source": [
    "Example script for HELIOS Indian Cat2 SNPs, MAF = 1%"
   ]
  },
  {
   "cell_type": "code",
   "execution_count": null,
   "id": "6fcf4508-699c-4c37-97cb-6ff8ec4cc7c7",
   "metadata": {},
   "outputs": [],
   "source": [
    "#!/bin/bash\n",
    "#PBS -N plink\n",
    "#PBS -q normal\n",
    "#PBS -l select=1:ngpus=1:ncpus=24:mpiprocs=4:ompthreads=6:mem=64gb\n",
    "#PBS -j oe\n",
    "#PBS -l walltime=24:00:00\n",
    "#PBS -P personal-ng0167ng\n",
    "\n",
    "/data/projects/rvtests/executable/rvtest --inVcf /data/helios_ind_chr22_cat2_snps.recode.vcf.gz \\\n",
    "--pheno /data/projects/helios_indian_pheno_rvtests_metacov.ped --pheno-name ltl \\\n",
    "--covar /data/projects/helios_indian_sex_yob_rvtests.txt \\\n",
    "--covar-name sex,yob,pc1,pc2,pc3,pc4,pc5 --peopleIncludeFile /data/projects/helios_indian140.txt \\\n",
    "--meta score,cov --inverseNormal --useResidualAsPhenotype --freqUpper 0.01 --out /data/heliosindianchr22cat2onepercent"
   ]
  },
  {
   "cell_type": "markdown",
   "id": "402d88c6-0246-4b2f-b129-380dd605c780",
   "metadata": {},
   "source": [
    "#### Burden analysis using RAREMETAL executable"
   ]
  },
  {
   "cell_type": "markdown",
   "id": "cffcbc57-68a6-4e05-b4a7-9ad9554f6e13",
   "metadata": {},
   "source": [
    "Example script for Chinese cohorts, CHR1"
   ]
  },
  {
   "cell_type": "code",
   "execution_count": null,
   "id": "57257dc0-ab9e-4a4a-b83e-6c0044df0cfc",
   "metadata": {},
   "outputs": [],
   "source": [
    "raremetal --summaryFiles /home/trang/raremetal/summaryfiles_chr1_chinese.txt --covFiles /home/trang/raremetal/covfiles_chr1_chinese.txt \\\n",
    "--groupFile /home/trang/raremetal/chi_cat2_snps_genes_marker_group_2 --burden --VT --SKAT --maf 0.01 --prefix chi.chr1.cat2.onepercent"
   ]
  },
  {
   "cell_type": "markdown",
   "id": "53f3f2be-d363-4847-bd7e-9c877453aef8",
   "metadata": {},
   "source": [
    "Covariate file (.txt)"
   ]
  },
  {
   "cell_type": "raw",
   "id": "eaff0fd6-045b-426b-8629-669cffaeb3de",
   "metadata": {},
   "source": [
    "helioschinesechr1cat2onepercent.MetaCov.assoc.gz\n",
    "mecchinesechr1cat2onepercent.MetaCov.assoc.gz\n",
    "prismchinesechr1cat2onepercent.MetaCov.assoc.gz\n",
    "serichinesechr1cat2onepercent.MetaCov.assoc.gz\n",
    "ttshchinesechr1cat2onepercent.MetaCov.assoc.gz"
   ]
  },
  {
   "cell_type": "markdown",
   "id": "3fcb6d6c-ed76-41cc-882a-c7e4601494df",
   "metadata": {},
   "source": [
    "### Conditional analysis (CHR14)"
   ]
  },
  {
   "cell_type": "markdown",
   "id": "5dbfd220-24a2-4048-bcf7-5968ed5f89a1",
   "metadata": {},
   "source": [
    "Example script for HELIOS Malay cohort, CHR14"
   ]
  },
  {
   "cell_type": "code",
   "execution_count": null,
   "id": "f6984e62-f65a-4d60-ba6c-c0d6ba72cb32",
   "metadata": {},
   "outputs": [],
   "source": [
    "#!/bin/bash\n",
    "#PBS -q normal\n",
    "#PBS -l select=1:ncpus=1:mem=4G\n",
    "#PBS -l walltime=24:00:00\n",
    "#PBS -P 13001375\n",
    "\n",
    "/home/projects/plink/plink-1-9/plink --noweb --vcf /data/SG10K_Health_r5.3.n9770.chr14.vcf.gz \\\n",
    "--linear --pheno /home/projects/helios_malay_pheno.txt --all-pheno \\\n",
    "--keep /home/projects/helios_malay147.txt --double-id \\\n",
    "--covar /home/projects/helios_malay_sex_yob.txt --covar-name sex,yob,pc1,pc2,pc3,pc4,pc5 \\\n",
    "--maf 0.05 --ci 0.95 --snps-only just-acgt --hwe 0.000001 --geno 0.05 --freq --allow-no-sex --condition rs34655126 \\\n",
    "--out /home/projects/heliosmalaychr14ci5percentcondr"
   ]
  }
 ],
 "metadata": {
  "kernelspec": {
   "display_name": "Python 3 (ipykernel)",
   "language": "python",
   "name": "python3"
  },
  "language_info": {
   "codemirror_mode": {
    "name": "ipython",
    "version": 3
   },
   "file_extension": ".py",
   "mimetype": "text/x-python",
   "name": "python",
   "nbconvert_exporter": "python",
   "pygments_lexer": "ipython3",
   "version": "3.9.13"
  }
 },
 "nbformat": 4,
 "nbformat_minor": 5
}
